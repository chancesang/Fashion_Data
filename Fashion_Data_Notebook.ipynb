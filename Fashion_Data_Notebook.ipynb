{
 "cells": [
  {
   "cell_type": "markdown",
   "metadata": {},
   "source": [
    "# CNN With Fashion Data\n",
    " An x layer CNN for fashion (clothing?) type detection trained\n",
    " on an MNIST dataset from Zolando Research"
   ]
  },
  {
   "cell_type": "code",
   "execution_count": 1,
   "metadata": {},
   "outputs": [
    {
     "name": "stderr",
     "output_type": "stream",
     "text": [
      "/Users/chance/anaconda3/lib/python3.6/site-packages/h5py/__init__.py:36: FutureWarning: Conversion of the second argument of issubdtype from `float` to `np.floating` is deprecated. In future, it will be treated as `np.float64 == np.dtype(float).type`.\n",
      "  from ._conv import register_converters as _register_converters\n",
      "Using TensorFlow backend.\n"
     ]
    }
   ],
   "source": [
    "import pandas as pd\n",
    "import numpy as np\n",
    "import matplotlib.pyplot as plt\n",
    "import matplotlib.image as mpimg\n",
    "import seaborn as sns\n",
    "%matplotlib inline  \n",
    "# what does this ^ mean?\n",
    "\n",
    "np.random.seed(2)  # number of epochs? (steps)\n",
    "\n",
    "\n",
    "from sklearn.model_selection import train_test_split\n",
    "from sklearn.metrics import confusion_matrix  # look this up\n",
    "import itertools\n",
    "\n",
    "from keras.utils.np_utils import to_categorical  # \"convert to one-hot-encoding??\"\n",
    "from keras.models  import Sequential\n",
    "from keras.layers import Dense, Dropout, Flatten, Conv2D, MaxPool2D  #Layers of Network?\n",
    "from keras.optimizers import RMSprop  # look this up\n",
    "from keras.preprocessing.image import ImageDataGenerator\n",
    "from keras.callbacks import ReduceLROnPlateau\n",
    "\n",
    "\n",
    "sns.set(style = 'dark', context = 'notebook', palette = 'deep')"
   ]
  },
  {
   "cell_type": "code",
   "execution_count": 2,
   "metadata": {},
   "outputs": [],
   "source": [
    "train = pd.read_csv('fashion-mnist_train.csv')\n",
    "test = pd.read_csv('fashion-mnist_test.csv')"
   ]
  },
  {
   "cell_type": "code",
   "execution_count": 3,
   "metadata": {},
   "outputs": [],
   "source": [
    "# digit recognizer tutorial's 'test' doesn't have a 'label'\n",
    "# column, but this fashion data has a label column on both\n",
    "# the test and train data, need to drop from both when checking\n",
    "# checking for missing or corrupted images"
   ]
  },
  {
   "cell_type": "code",
   "execution_count": 4,
   "metadata": {},
   "outputs": [
    {
     "data": {
      "text/plain": [
       "7    1000\n",
       "6    1000\n",
       "5    1000\n",
       "4    1000\n",
       "3    1000\n",
       "2    1000\n",
       "9    1000\n",
       "1    1000\n",
       "8    1000\n",
       "0    1000\n",
       "Name: label, dtype: int64"
      ]
     },
     "execution_count": 4,
     "metadata": {},
     "output_type": "execute_result"
    },
    {
     "data": {
      "image/png": "[encoded data removed]",
      "text/plain": [
       "<Figure size 432x288 with 1 Axes>"
      ]
     },
     "metadata": {},
     "output_type": "display_data"
    }
   ],
   "source": [
    "Y_train = train['label']\n",
    "X_train = train.drop(labels = ['label'], axis = 1) \n",
    "Y_test = test['label']\n",
    "X_test = test.drop(labels = ['label'], axis = 1)\n",
    "del train #freeing space? (taking less time for model training?)\n",
    "del test\n",
    "g = sns.countplot(Y_train)\n",
    "g1 = sns.countplot(Y_test)\n",
    "Y_train.value_counts()\n",
    "Y_test.value_counts()"
   ]
  },
  {
   "cell_type": "code",
   "execution_count": 5,
   "metadata": {},
   "outputs": [],
   "source": [
    "# Is this ^ all supposed to be the same count? \n",
    "# Why is there only one plot?"
   ]
  },
  {
   "cell_type": "code",
   "execution_count": 6,
   "metadata": {},
   "outputs": [
    {
     "data": {
      "text/plain": [
       "count       784\n",
       "unique        1\n",
       "top       False\n",
       "freq        784\n",
       "dtype: object"
      ]
     },
     "execution_count": 6,
     "metadata": {},
     "output_type": "execute_result"
    }
   ],
   "source": [
    "X_train.isnull().any().describe() # checking train for missing data"
   ]
  },
  {
   "cell_type": "code",
   "execution_count": 7,
   "metadata": {},
   "outputs": [
    {
     "data": {
      "text/plain": [
       "count       784\n",
       "unique        1\n",
       "top       False\n",
       "freq        784\n",
       "dtype: object"
      ]
     },
     "execution_count": 7,
     "metadata": {},
     "output_type": "execute_result"
    }
   ],
   "source": [
    "X_test.isnull().any().describe() # checking test for missing data"
   ]
  },
  {
   "cell_type": "code",
   "execution_count": 8,
   "metadata": {},
   "outputs": [],
   "source": [
    "# Missing data returned as True ('top')?"
   ]
  },
  {
   "cell_type": "code",
   "execution_count": 9,
   "metadata": {},
   "outputs": [],
   "source": [
    "X_train = X_train / 255.0  # Can I pick another number besides\n",
    "X_test =  X_test / 255.0   # 255.0 for slower convergence when\n",
    "                           # normalizing the data?\n",
    "                    "
   ]
  },
  {
   "cell_type": "code",
   "execution_count": 10,
   "metadata": {},
   "outputs": [],
   "source": [
    "X_train = X_train.values.reshape(-1,28,28,1)\n",
    "X_test = X_test.values.reshape(-1,28,28,1)\n",
    "# Reshaping in 3 dimensions, but what is the -1?"
   ]
  },
  {
   "cell_type": "code",
   "execution_count": 11,
   "metadata": {},
   "outputs": [],
   "source": [
    "# Create dictionary of target classes\n",
    "label_dict = {\n",
    " 0: 'Cute_lil_top',\n",
    " 1: 'Hot_pants',\n",
    " 2: 'Hoodie',\n",
    " 3: 'Dress_Up',\n",
    " 4: 'Bundles_up_bitches',\n",
    " 5: 'Toe_flaunters',\n",
    " 6: 'Shirt',\n",
    " 7: 'Sneakaaas',\n",
    " 8: 'Hold_my_purse',\n",
    " 9: 'Booties'\n",
    "}"
   ]
  },
  {
   "cell_type": "code",
   "execution_count": 12,
   "metadata": {},
   "outputs": [],
   "source": [
    "#wtf is label encoding?! Robot binary talk?\n",
    "Y_train = to_categorical(Y_train, num_classes = 10)\n"
   ]
  },
  {
   "cell_type": "code",
   "execution_count": 13,
   "metadata": {},
   "outputs": [],
   "source": [
    "random_seed = 2\n",
    "#Split training and make validation sets\n",
    "X_train, X_val, Y_train, Y_val = train_test_split(X_train, Y_train, test_size = 0.1, random_state = random_seed)\n",
    "                                                                    # ^10% of this data validated, 90% for training            "
   ]
  },
  {
   "cell_type": "code",
   "execution_count": 14,
   "metadata": {},
   "outputs": [
    {
     "data": {
      "image/png": "[encoded data removed]",
      "text/plain": [
       "<Figure size 432x288 with 1 Axes>"
      ]
     },
     "metadata": {},
     "output_type": "display_data"
    }
   ],
   "source": [
    "g = plt.imshow(X_train[42985][:,:,0])"
   ]
  },
  {
   "cell_type": "code",
   "execution_count": 15,
   "metadata": {},
   "outputs": [],
   "source": [
    "#Setting CNN Model\n",
    "\n",
    "model = Sequential()\n",
    "model.add(Conv2D(filters = 32, kernel_size = (5,5), padding = 'Same',\n",
    "                activation = 'relu', input_shape = (28,28,1)))\n",
    "model.add(Conv2D(filters = 32, kernel_size = (5,5), padding = 'Same',\n",
    "                activation = 'relu'))\n",
    "model.add(MaxPool2D(pool_size = (2,2)))\n",
    "model.add(Dropout(0.25))\n",
    "\n",
    "model.add(Conv2D(filters = 64, kernel_size = (3,3), padding = 'Same',\n",
    "                activation = 'relu'))\n",
    "model.add(Conv2D(filters = 64, kernel_size = (3,3), padding = 'Same',\n",
    "                activation = 'relu'))\n",
    "model.add(MaxPool2D(pool_size = (2,2), strides = (2,2)))\n",
    "model.add(Dropout(0.25))\n",
    "\n",
    "model.add(Flatten())\n",
    "model.add(Dense(256, activation = 'relu'))\n",
    "model.add(Dropout(0.5))\n",
    "model.add(Dense(10, activation = 'softmax'))\n"
   ]
  },
  {
   "cell_type": "code",
   "execution_count": 16,
   "metadata": {},
   "outputs": [],
   "source": [
    "optimizer = RMSprop(lr = 0.001, rho = 0.9, epsilon = 1e-08, decay = 0.0)"
   ]
  },
  {
   "cell_type": "code",
   "execution_count": 17,
   "metadata": {},
   "outputs": [],
   "source": [
    "model.compile(optimizer = optimizer, loss = 'categorical_crossentropy', metrics = ['accuracy'])"
   ]
  },
  {
   "cell_type": "code",
   "execution_count": 18,
   "metadata": {},
   "outputs": [],
   "source": [
    "learning_rate_reduction = ReduceLROnPlateau(monitor='val_acc', \n",
    "                                            patience=3, \n",
    "                                            verbose=1, \n",
    "                                            factor=0.5, \n",
    "                                            min_lr=0.00001)"
   ]
  },
  {
   "cell_type": "code",
   "execution_count": 24,
   "metadata": {},
   "outputs": [],
   "source": [
    "epochs = 50 # Changing Epochs doesn't necessarily improve accuracy in this data's case\n",
    "batch_size = 86  # Why 86?"
   ]
  },
  {
   "cell_type": "code",
   "execution_count": 25,
   "metadata": {},
   "outputs": [],
   "source": [
    "# With Data Augmentation \n",
    "\n",
    "datagen = ImageDataGenerator(\n",
    "        featurewise_center=False,  # set input mean to 0 over the dataset\n",
    "        samplewise_center=False,  # set each sample mean to 0\n",
    "        featurewise_std_normalization=False,  # divide inputs by std of the dataset\n",
    "        samplewise_std_normalization=False,  # divide each input by its std\n",
    "        zca_whitening=False,  # apply ZCA whitening\n",
    "        rotation_range=10,  # randomly rotate images in the range (degrees, 0 to 180)\n",
    "        zoom_range = 0.1, # Randomly zoom image \n",
    "        width_shift_range=0.1,  # randomly shift images horizontally (fraction of total width)\n",
    "        height_shift_range=0.1,  # randomly shift images vertically (fraction of total height)\n",
    "        horizontal_flip=False,  # randomly flip images\n",
    "        vertical_flip=False)  # randomly flip images\n",
    "\n",
    "\n",
    "datagen.fit(X_train)"
   ]
  },
  {
   "cell_type": "code",
   "execution_count": null,
   "metadata": {},
   "outputs": [
    {
     "name": "stdout",
     "output_type": "stream",
     "text": [
      "Epoch 1/50\n",
      " - 300s - loss: 0.7964 - acc: 0.7241 - val_loss: 0.4429 - val_acc: 0.8543\n",
      "Epoch 2/50\n",
      " - 310s - loss: 0.7797 - acc: 0.7289 - val_loss: 0.8106 - val_acc: 0.8348\n",
      "Epoch 3/50\n",
      " - 302s - loss: 0.7545 - acc: 0.7355 - val_loss: 0.5782 - val_acc: 0.8630\n",
      "Epoch 4/50\n",
      " - 302s - loss: 0.7451 - acc: 0.7416 - val_loss: 0.4984 - val_acc: 0.8415\n",
      "Epoch 5/50\n",
      " - 300s - loss: 0.7456 - acc: 0.7430 - val_loss: 0.5646 - val_acc: 0.8522\n",
      "Epoch 6/50\n",
      " - 304s - loss: 0.7310 - acc: 0.7462 - val_loss: 0.5939 - val_acc: 0.8280\n",
      "\n",
      "Epoch 00006: ReduceLROnPlateau reducing learning rate to 0.0005000000237487257.\n",
      "Epoch 7/50\n",
      " - 308s - loss: 0.6516 - acc: 0.7663 - val_loss: 0.4508 - val_acc: 0.8627\n",
      "Epoch 8/50\n",
      " - 299s - loss: 0.6443 - acc: 0.7706 - val_loss: 0.4236 - val_acc: 0.8617\n",
      "Epoch 9/50\n",
      " - 304s - loss: 0.6362 - acc: 0.7725 - val_loss: 0.5062 - val_acc: 0.8608\n",
      "\n",
      "Epoch 00009: ReduceLROnPlateau reducing learning rate to 0.0002500000118743628.\n",
      "Epoch 10/50\n",
      " - 301s - loss: 0.6002 - acc: 0.7851 - val_loss: 0.4685 - val_acc: 0.8738\n",
      "Epoch 11/50\n",
      " - 308s - loss: 0.5943 - acc: 0.7877 - val_loss: 0.4341 - val_acc: 0.8767\n",
      "Epoch 12/50\n",
      " - 303s - loss: 0.5842 - acc: 0.7904 - val_loss: 0.4456 - val_acc: 0.8790\n",
      "Epoch 13/50\n",
      " - 314s - loss: 0.5849 - acc: 0.7895 - val_loss: 0.4399 - val_acc: 0.8737\n",
      "Epoch 14/50\n",
      " - 317s - loss: 0.5846 - acc: 0.7923 - val_loss: 0.4722 - val_acc: 0.8793\n",
      "Epoch 15/50\n",
      " - 318s - loss: 0.5790 - acc: 0.7951 - val_loss: 0.4147 - val_acc: 0.8805\n",
      "Epoch 16/50\n",
      " - 309s - loss: 0.5712 - acc: 0.7950 - val_loss: 0.4746 - val_acc: 0.8717\n",
      "Epoch 17/50\n",
      " - 315s - loss: 0.5817 - acc: 0.7932 - val_loss: 0.4246 - val_acc: 0.8758\n",
      "Epoch 18/50\n",
      " - 319s - loss: 0.5780 - acc: 0.7953 - val_loss: 0.3989 - val_acc: 0.8793\n",
      "\n",
      "Epoch 00018: ReduceLROnPlateau reducing learning rate to 0.0001250000059371814.\n",
      "Epoch 19/50\n",
      " - 312s - loss: 0.5540 - acc: 0.7999 - val_loss: 0.4242 - val_acc: 0.8832\n",
      "Epoch 20/50\n",
      " - 314s - loss: 0.5507 - acc: 0.8033 - val_loss: 0.4246 - val_acc: 0.8778\n",
      "Epoch 21/50\n",
      " - 314s - loss: 0.5517 - acc: 0.8045 - val_loss: 0.4320 - val_acc: 0.8822\n",
      "Epoch 22/50\n",
      " - 315s - loss: 0.5490 - acc: 0.8041 - val_loss: 0.4224 - val_acc: 0.8800\n",
      "\n",
      "Epoch 00022: ReduceLROnPlateau reducing learning rate to 6.25000029685907e-05.\n",
      "Epoch 23/50\n",
      " - 297s - loss: 0.5408 - acc: 0.8083 - val_loss: 0.4225 - val_acc: 0.8800\n",
      "Epoch 24/50\n",
      " - 314s - loss: 0.5438 - acc: 0.8082 - val_loss: 0.4267 - val_acc: 0.8808\n",
      "Epoch 25/50\n",
      " - 324s - loss: 0.5393 - acc: 0.8072 - val_loss: 0.4295 - val_acc: 0.8793\n",
      "\n",
      "Epoch 00025: ReduceLROnPlateau reducing learning rate to 3.125000148429535e-05.\n",
      "Epoch 26/50\n"
     ]
    }
   ],
   "source": [
    "# Fitting Model With Data Augmentation\n",
    "\n",
    "history = model.fit_generator(datagen.flow(X_train,Y_train, batch_size=batch_size),\n",
    "                              epochs = epochs, validation_data = (X_val,Y_val),\n",
    "                              verbose = 2, steps_per_epoch=X_train.shape[0] // batch_size\n",
    "                              , callbacks=[learning_rate_reduction])"
   ]
  },
  {
   "cell_type": "code",
   "execution_count": 20,
   "metadata": {},
   "outputs": [
    {
     "name": "stdout",
     "output_type": "stream",
     "text": [
      "Train on 54000 samples, validate on 6000 samples\n",
      "Epoch 1/100\n",
      " - 284s - loss: 0.5105 - acc: 0.8159 - val_loss: 0.2979 - val_acc: 0.8922\n",
      "Epoch 2/100\n",
      " - 283s - loss: 0.3189 - acc: 0.8867 - val_loss: 0.2880 - val_acc: 0.9010\n",
      "Epoch 3/100\n",
      " - 282s - loss: 0.2838 - acc: 0.8993 - val_loss: 0.2397 - val_acc: 0.9112\n",
      "Epoch 4/100\n",
      " - 281s - loss: 0.2668 - acc: 0.9040 - val_loss: 0.2303 - val_acc: 0.9177\n",
      "Epoch 5/100\n",
      " - 281s - loss: 0.2572 - acc: 0.9086 - val_loss: 0.2240 - val_acc: 0.9168\n",
      "Epoch 6/100\n",
      " - 283s - loss: 0.2513 - acc: 0.9119 - val_loss: 0.2353 - val_acc: 0.9143\n",
      "Epoch 7/100\n",
      " - 283s - loss: 0.2488 - acc: 0.9118 - val_loss: 0.2334 - val_acc: 0.9130\n",
      "Epoch 8/100\n",
      " - 282s - loss: 0.2454 - acc: 0.9125 - val_loss: 0.2217 - val_acc: 0.9195\n",
      "Epoch 9/100\n",
      " - 282s - loss: 0.2480 - acc: 0.9136 - val_loss: 0.2222 - val_acc: 0.9200\n",
      "Epoch 10/100\n",
      " - 281s - loss: 0.2425 - acc: 0.9164 - val_loss: 0.2307 - val_acc: 0.9200\n",
      "Epoch 11/100\n",
      " - 282s - loss: 0.2434 - acc: 0.9154 - val_loss: 0.2545 - val_acc: 0.9138\n",
      "Epoch 12/100\n",
      " - 281s - loss: 0.2427 - acc: 0.9159 - val_loss: 0.2314 - val_acc: 0.9158\n",
      "Epoch 13/100\n",
      " - 282s - loss: 0.2463 - acc: 0.9151 - val_loss: 0.2412 - val_acc: 0.9230\n",
      "Epoch 14/100\n",
      " - 281s - loss: 0.2463 - acc: 0.9153 - val_loss: 0.2460 - val_acc: 0.9160\n",
      "Epoch 15/100\n",
      " - 281s - loss: 0.2467 - acc: 0.9147 - val_loss: 0.2248 - val_acc: 0.9195\n",
      "Epoch 16/100\n",
      " - 282s - loss: 0.2450 - acc: 0.9174 - val_loss: 0.2268 - val_acc: 0.9175\n",
      "Epoch 17/100\n",
      " - 281s - loss: 0.2467 - acc: 0.9154 - val_loss: 0.2406 - val_acc: 0.9107\n",
      "Epoch 18/100\n",
      " - 281s - loss: 0.2508 - acc: 0.9128 - val_loss: 0.3086 - val_acc: 0.9150\n",
      "Epoch 19/100\n",
      " - 281s - loss: 0.2532 - acc: 0.9131 - val_loss: 0.2196 - val_acc: 0.9213\n",
      "Epoch 20/100\n",
      " - 281s - loss: 0.2557 - acc: 0.9118 - val_loss: 0.2300 - val_acc: 0.9165\n",
      "Epoch 21/100\n",
      " - 282s - loss: 0.2603 - acc: 0.9113 - val_loss: 0.2550 - val_acc: 0.9163\n",
      "Epoch 22/100\n",
      " - 282s - loss: 0.2593 - acc: 0.9108 - val_loss: 0.2448 - val_acc: 0.9108\n",
      "Epoch 23/100\n",
      " - 282s - loss: 0.2624 - acc: 0.9101 - val_loss: 0.2558 - val_acc: 0.9093\n",
      "Epoch 24/100\n",
      " - 282s - loss: 0.2716 - acc: 0.9105 - val_loss: 0.2272 - val_acc: 0.9213\n",
      "Epoch 25/100\n",
      " - 282s - loss: 0.2729 - acc: 0.9109 - val_loss: 0.2633 - val_acc: 0.9072\n",
      "Epoch 26/100\n",
      " - 282s - loss: 0.2772 - acc: 0.9073 - val_loss: 0.2327 - val_acc: 0.9178\n",
      "Epoch 27/100\n",
      " - 282s - loss: 0.2721 - acc: 0.9078 - val_loss: 0.2452 - val_acc: 0.9108\n",
      "Epoch 28/100\n",
      " - 284s - loss: 0.2773 - acc: 0.9060 - val_loss: 0.2373 - val_acc: 0.9177\n",
      "Epoch 29/100\n",
      " - 283s - loss: 0.2807 - acc: 0.9056 - val_loss: 0.2837 - val_acc: 0.9073\n",
      "Epoch 30/100\n",
      " - 290s - loss: 0.2844 - acc: 0.9042 - val_loss: 0.2373 - val_acc: 0.9157\n",
      "Epoch 31/100\n",
      " - 287s - loss: 0.2869 - acc: 0.9042 - val_loss: 0.2668 - val_acc: 0.9150\n",
      "Epoch 32/100\n",
      " - 287s - loss: 0.2906 - acc: 0.9034 - val_loss: 0.3021 - val_acc: 0.9060\n",
      "Epoch 33/100\n",
      " - 285s - loss: 0.2925 - acc: 0.9038 - val_loss: 0.2583 - val_acc: 0.9150\n",
      "Epoch 34/100\n",
      " - 285s - loss: 0.2941 - acc: 0.9024 - val_loss: 0.2516 - val_acc: 0.9110\n",
      "Epoch 35/100\n",
      " - 286s - loss: 0.2996 - acc: 0.9009 - val_loss: 0.2500 - val_acc: 0.9125\n",
      "Epoch 36/100\n",
      " - 285s - loss: 0.3027 - acc: 0.8999 - val_loss: 0.2750 - val_acc: 0.9093\n",
      "Epoch 37/100\n",
      " - 284s - loss: 0.2994 - acc: 0.9010 - val_loss: 0.2476 - val_acc: 0.9142\n",
      "Epoch 38/100\n",
      " - 284s - loss: 0.3081 - acc: 0.8994 - val_loss: 0.3097 - val_acc: 0.9065\n",
      "Epoch 39/100\n",
      " - 284s - loss: 0.3078 - acc: 0.9001 - val_loss: 0.2489 - val_acc: 0.9152\n",
      "Epoch 40/100\n",
      " - 285s - loss: 0.3103 - acc: 0.8986 - val_loss: 0.2566 - val_acc: 0.9130\n",
      "Epoch 41/100\n",
      " - 284s - loss: 0.3082 - acc: 0.8992 - val_loss: 0.2526 - val_acc: 0.9107\n",
      "Epoch 42/100\n",
      " - 285s - loss: 0.3132 - acc: 0.8981 - val_loss: 0.2781 - val_acc: 0.9045\n",
      "Epoch 43/100\n",
      " - 284s - loss: 0.3170 - acc: 0.8966 - val_loss: 0.2591 - val_acc: 0.9108\n",
      "Epoch 44/100\n",
      " - 285s - loss: 0.3163 - acc: 0.8972 - val_loss: 0.5127 - val_acc: 0.8763\n",
      "Epoch 45/100\n",
      " - 285s - loss: 0.3211 - acc: 0.8954 - val_loss: 0.2908 - val_acc: 0.8997\n",
      "Epoch 46/100\n",
      " - 285s - loss: 0.3213 - acc: 0.8952 - val_loss: 0.2767 - val_acc: 0.9095\n",
      "Epoch 47/100\n",
      " - 285s - loss: 0.3228 - acc: 0.8946 - val_loss: 0.2947 - val_acc: 0.8972\n",
      "Epoch 48/100\n",
      " - 285s - loss: 0.3225 - acc: 0.8946 - val_loss: 0.2569 - val_acc: 0.9113\n",
      "Epoch 49/100\n",
      " - 284s - loss: 0.3301 - acc: 0.8937 - val_loss: 0.2873 - val_acc: 0.9047\n",
      "Epoch 50/100\n",
      " - 285s - loss: 0.3286 - acc: 0.8947 - val_loss: 0.2640 - val_acc: 0.9127\n",
      "Epoch 51/100\n",
      " - 285s - loss: 0.3300 - acc: 0.8907 - val_loss: 0.3133 - val_acc: 0.9033\n",
      "Epoch 52/100\n",
      " - 285s - loss: 0.3305 - acc: 0.8936 - val_loss: 0.2600 - val_acc: 0.9098\n",
      "Epoch 53/100\n",
      " - 286s - loss: 0.3417 - acc: 0.8898 - val_loss: 0.3057 - val_acc: 0.8957\n",
      "Epoch 54/100\n",
      " - 285s - loss: 0.3359 - acc: 0.8906 - val_loss: 0.3321 - val_acc: 0.8873\n",
      "Epoch 55/100\n",
      " - 286s - loss: 0.3509 - acc: 0.8879 - val_loss: 0.2782 - val_acc: 0.9053\n",
      "Epoch 56/100\n",
      " - 286s - loss: 0.3431 - acc: 0.8874 - val_loss: 0.3011 - val_acc: 0.8988\n",
      "Epoch 57/100\n",
      " - 286s - loss: 0.3506 - acc: 0.8866 - val_loss: 0.3489 - val_acc: 0.9022\n",
      "Epoch 58/100\n",
      " - 286s - loss: 0.3413 - acc: 0.8893 - val_loss: 0.2809 - val_acc: 0.9030\n",
      "Epoch 59/100\n",
      " - 286s - loss: 0.3480 - acc: 0.8879 - val_loss: 0.2947 - val_acc: 0.8975\n",
      "Epoch 60/100\n",
      " - 286s - loss: 0.3470 - acc: 0.8874 - val_loss: 0.2672 - val_acc: 0.9060\n",
      "Epoch 61/100\n",
      " - 286s - loss: 0.3606 - acc: 0.8846 - val_loss: 0.2983 - val_acc: 0.9010\n",
      "Epoch 62/100\n",
      " - 285s - loss: 0.3550 - acc: 0.8844 - val_loss: 0.3506 - val_acc: 0.8863\n",
      "Epoch 63/100\n",
      " - 286s - loss: 0.3583 - acc: 0.8831 - val_loss: 0.4044 - val_acc: 0.8853\n",
      "Epoch 64/100\n",
      " - 285s - loss: 0.3493 - acc: 0.8864 - val_loss: 0.2874 - val_acc: 0.9068\n",
      "Epoch 65/100\n",
      " - 287s - loss: 0.3568 - acc: 0.8844 - val_loss: 0.3256 - val_acc: 0.8958\n",
      "Epoch 66/100\n",
      " - 287s - loss: 0.3592 - acc: 0.8855 - val_loss: 0.2966 - val_acc: 0.9075\n",
      "Epoch 67/100\n",
      " - 286s - loss: 0.3591 - acc: 0.8849 - val_loss: 0.2974 - val_acc: 0.8988\n",
      "Epoch 68/100\n",
      " - 288s - loss: 0.3616 - acc: 0.8833 - val_loss: 0.2828 - val_acc: 0.9023\n",
      "Epoch 69/100\n",
      " - 286s - loss: 0.3700 - acc: 0.8824 - val_loss: 0.2833 - val_acc: 0.9028\n",
      "Epoch 70/100\n",
      " - 287s - loss: 0.3612 - acc: 0.8822 - val_loss: 0.2949 - val_acc: 0.9063\n",
      "Epoch 71/100\n",
      " - 286s - loss: 0.3635 - acc: 0.8826 - val_loss: 0.2834 - val_acc: 0.9013\n",
      "Epoch 72/100\n",
      " - 287s - loss: 0.3598 - acc: 0.8835 - val_loss: 0.2876 - val_acc: 0.9013\n",
      "Epoch 73/100\n",
      " - 285s - loss: 0.3747 - acc: 0.8787 - val_loss: 0.3429 - val_acc: 0.8830\n",
      "Epoch 74/100\n",
      " - 283s - loss: 0.3772 - acc: 0.8800 - val_loss: 0.3245 - val_acc: 0.8968\n",
      "Epoch 75/100\n",
      " - 283s - loss: 0.3757 - acc: 0.8797 - val_loss: 0.2828 - val_acc: 0.9013\n",
      "Epoch 76/100\n",
      " - 284s - loss: 0.3793 - acc: 0.8780 - val_loss: 0.2949 - val_acc: 0.9038\n",
      "Epoch 77/100\n",
      " - 284s - loss: 0.3796 - acc: 0.8792 - val_loss: 0.3355 - val_acc: 0.8950\n",
      "Epoch 78/100\n",
      " - 283s - loss: 0.3788 - acc: 0.8782 - val_loss: 0.2903 - val_acc: 0.9053\n",
      "Epoch 79/100\n",
      " - 284s - loss: 0.3805 - acc: 0.8775 - val_loss: 0.2943 - val_acc: 0.8988\n",
      "Epoch 80/100\n",
      " - 284s - loss: 0.3831 - acc: 0.8783 - val_loss: 0.3190 - val_acc: 0.9008\n",
      "Epoch 81/100\n",
      " - 284s - loss: 0.3794 - acc: 0.8782 - val_loss: 0.2888 - val_acc: 0.9032\n",
      "Epoch 82/100\n",
      " - 284s - loss: 0.3822 - acc: 0.8782 - val_loss: 0.4594 - val_acc: 0.8653\n",
      "Epoch 83/100\n",
      " - 284s - loss: 0.3889 - acc: 0.8779 - val_loss: 0.2910 - val_acc: 0.8995\n",
      "Epoch 84/100\n",
      " - 284s - loss: 0.3933 - acc: 0.8765 - val_loss: 0.4052 - val_acc: 0.8785\n",
      "Epoch 85/100\n",
      " - 284s - loss: 0.3818 - acc: 0.8749 - val_loss: 0.2868 - val_acc: 0.9002\n",
      "Epoch 86/100\n",
      " - 286s - loss: 0.3983 - acc: 0.8743 - val_loss: 0.2874 - val_acc: 0.9015\n",
      "Epoch 87/100\n",
      " - 285s - loss: 0.3922 - acc: 0.8756 - val_loss: 0.3058 - val_acc: 0.9050\n",
      "Epoch 88/100\n",
      " - 286s - loss: 0.3897 - acc: 0.8767 - val_loss: 0.4014 - val_acc: 0.8800\n",
      "Epoch 89/100\n",
      " - 287s - loss: 0.3948 - acc: 0.8736 - val_loss: 0.3076 - val_acc: 0.8930\n",
      "Epoch 90/100\n",
      " - 289s - loss: 0.4032 - acc: 0.8758 - val_loss: 0.3332 - val_acc: 0.8992\n",
      "Epoch 91/100\n",
      " - 287s - loss: 0.3983 - acc: 0.8729 - val_loss: 0.3315 - val_acc: 0.9075\n",
      "Epoch 92/100\n",
      " - 289s - loss: 0.4068 - acc: 0.8716 - val_loss: 0.3276 - val_acc: 0.8888\n",
      "Epoch 93/100\n",
      " - 288s - loss: 0.4080 - acc: 0.8720 - val_loss: 0.3330 - val_acc: 0.8793\n",
      "Epoch 94/100\n",
      " - 288s - loss: 0.4136 - acc: 0.8710 - val_loss: 0.3111 - val_acc: 0.8972\n"
     ]
    },
    {
     "name": "stdout",
     "output_type": "stream",
     "text": [
      "Epoch 95/100\n",
      " - 289s - loss: 0.4065 - acc: 0.8700 - val_loss: 0.3501 - val_acc: 0.8817\n",
      "Epoch 96/100\n",
      " - 289s - loss: 0.4159 - acc: 0.8684 - val_loss: 0.2906 - val_acc: 0.9022\n",
      "Epoch 97/100\n",
      " - 288s - loss: 0.4086 - acc: 0.8705 - val_loss: 0.2847 - val_acc: 0.9008\n",
      "Epoch 98/100\n",
      " - 287s - loss: 0.4263 - acc: 0.8657 - val_loss: 0.2997 - val_acc: 0.8945\n",
      "Epoch 99/100\n",
      " - 285s - loss: 0.4267 - acc: 0.8664 - val_loss: 0.3059 - val_acc: 0.9002\n",
      "Epoch 100/100\n",
      " - 286s - loss: 0.4136 - acc: 0.8692 - val_loss: 0.3570 - val_acc: 0.8942\n"
     ]
    }
   ],
   "source": [
    "# Without Data Augmentation (Fitting model)\n",
    "\n",
    "history = model.fit(X_train, Y_train, batch_size = batch_size, epochs = epochs, validation_data = (X_val, Y_val), verbose = 2)"
   ]
  },
  {
   "cell_type": "code",
   "execution_count": 17,
   "metadata": {},
   "outputs": [
    {
     "data": {
      "image/png": "[encoded data removed]",
      "text/plain": [
       "<Figure size 432x288 with 2 Axes>"
      ]
     },
     "metadata": {},
     "output_type": "display_data"
    }
   ],
   "source": [
    "# Confusion Matrix (also needed for error display)\n",
    "\n",
    "def plot_confusion_matrix(cm, classes,\n",
    "                          normalize=False,\n",
    "                          title='Confusion matrix',\n",
    "                          cmap=plt.cm.Blues):\n",
    "    \"\"\"\n",
    "    This function prints and plots the confusion matrix.\n",
    "    Normalization can be applied by setting `normalize=True`.\n",
    "    \"\"\"\n",
    "    plt.imshow(cm, interpolation='nearest', cmap=cmap)\n",
    "    plt.title(title)\n",
    "    plt.colorbar()\n",
    "    tick_marks = np.arange(len(classes))\n",
    "    plt.xticks(tick_marks, classes, rotation=45)\n",
    "    plt.yticks(tick_marks, classes)\n",
    "\n",
    "    if normalize:\n",
    "        cm = cm.astype('float') / cm.sum(axis=1)[:, np.newaxis]\n",
    "\n",
    "    thresh = cm.max() / 2.\n",
    "    for i, j in itertools.product(range(cm.shape[0]), range(cm.shape[1])):\n",
    "        plt.text(j, i, cm[i, j],\n",
    "                 horizontalalignment=\"center\",\n",
    "                 color=\"white\" if cm[i, j] > thresh else \"black\")\n",
    "\n",
    "    plt.tight_layout()\n",
    "    plt.ylabel('True label')\n",
    "    plt.xlabel('Predicted label')\n",
    "\n",
    "# Predict the values from the validation dataset\n",
    "Y_pred = model.predict(X_val)\n",
    "# Convert predictions classes to one hot vectors \n",
    "Y_pred_classes = np.argmax(Y_pred,axis = 1) \n",
    "# Convert validation observations to one hot vectors\n",
    "Y_true = np.argmax(Y_val,axis = 1) \n",
    "# compute the confusion matrix\n",
    "confusion_mtx = confusion_matrix(Y_true, Y_pred_classes) \n",
    "# plot the confusion matrix\n",
    "plot_confusion_matrix(confusion_mtx, classes = range(10)) "
   ]
  },
  {
   "cell_type": "code",
   "execution_count": 18,
   "metadata": {},
   "outputs": [
    {
     "data": {
      "image/png": "[encoded data removed]",
      "text/plain": [
       "<Figure size 432x288 with 6 Axes>"
      ]
     },
     "metadata": {},
     "output_type": "display_data"
    }
   ],
   "source": [
    "# Display some error results \n",
    "\n",
    "# Errors are difference between predicted labels and true labels\n",
    "errors = (Y_pred_classes - Y_true != 0)\n",
    "\n",
    "Y_pred_classes_errors = Y_pred_classes[errors]\n",
    "Y_pred_errors = Y_pred[errors]\n",
    "Y_true_errors = Y_true[errors]\n",
    "X_val_errors = X_val[errors]\n",
    "\n",
    "def display_errors(errors_index,img_errors,pred_errors, obs_errors):\n",
    "    \"\"\" This function shows 6 images with their predicted and real labels\"\"\"\n",
    "    n = 0\n",
    "    nrows = 2\n",
    "    ncols = 3\n",
    "    fig, ax = plt.subplots(nrows,ncols,sharex=True,sharey=True)\n",
    "    for row in range(nrows):\n",
    "        for col in range(ncols):\n",
    "            error = errors_index[n]\n",
    "            ax[row,col].imshow((img_errors[error]).reshape((28,28)))\n",
    "            ax[row,col].set_title(\"Predicted label :{}\\nTrue label :{}\".format(pred_errors[error],obs_errors[error]))\n",
    "            n += 1\n",
    "\n",
    "# Probabilities of the wrong predicted numbers\n",
    "Y_pred_errors_prob = np.max(Y_pred_errors,axis = 1)\n",
    "\n",
    "# Predicted probabilities of the true values in the error set\n",
    "true_prob_errors = np.diagonal(np.take(Y_pred_errors, Y_true_errors, axis=1))\n",
    "\n",
    "# Difference between the probability of the predicted label and the true label\n",
    "delta_pred_true_errors = Y_pred_errors_prob - true_prob_errors\n",
    "\n",
    "# Sorted list of the delta prob errors\n",
    "sorted_dela_errors = np.argsort(delta_pred_true_errors)\n",
    "\n",
    "# Top 6 errors \n",
    "most_important_errors = sorted_dela_errors[-6:]\n",
    "\n",
    "# Show the top 6 errors\n",
    "display_errors(most_important_errors, X_val_errors, Y_pred_classes_errors, Y_true_errors)"
   ]
  },
  {
   "cell_type": "code",
   "execution_count": 19,
   "metadata": {},
   "outputs": [],
   "source": [
    "# predict results\n",
    "results = model.predict(X_test)\n",
    "\n",
    "\n",
    "# select the index with the maximum probability\n",
    "results = np.argmax(results,axis = 1)\n",
    "\n",
    "results = pd.Series(results,name=\"Label\")\n",
    "\n"
   ]
  },
  {
   "cell_type": "code",
   "execution_count": null,
   "metadata": {},
   "outputs": [],
   "source": []
  }
 ],
 "metadata": {
  "kernelspec": {
   "display_name": "Python 3",
   "language": "python",
   "name": "python3"
  },
  "language_info": {
   "codemirror_mode": {
    "name": "ipython",
    "version": 3
   },
   "file_extension": ".py",
   "mimetype": "text/x-python",
   "name": "python",
   "nbconvert_exporter": "python",
   "pygments_lexer": "ipython3",
   "version": "3.6.5"
  }
 },
 "nbformat": 4,
 "nbformat_minor": 2
}
